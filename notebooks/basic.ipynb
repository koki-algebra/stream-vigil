{
 "cells": [
  {
   "cell_type": "code",
   "execution_count": 3,
   "metadata": {},
   "outputs": [],
   "source": [
    "from logging import getLogger\n",
    "from logging.config import dictConfig\n",
    "\n",
    "import matplotlib.pyplot as plt\n",
    "from torch.utils.data import DataLoader\n",
    "from torcheval.metrics import BinaryAUPRC, BinaryAUROC, BinaryPrecisionRecallCurve\n",
    "from yaml import safe_load\n",
    "\n",
    "from streamvigil import CSVDataset\n",
    "from streamvigil.detectors import BasicAutoEncoder, BasicDetector"
   ]
  },
  {
   "cell_type": "code",
   "execution_count": 2,
   "metadata": {},
   "outputs": [],
   "source": [
    "# Logger\n",
    "with open(\"./logging.yml\", encoding=\"utf-8\") as file:\n",
    "    config = safe_load(file)\n",
    "dictConfig(config)\n",
    "logger = getLogger(__name__)"
   ]
  },
  {
   "cell_type": "code",
   "execution_count": 5,
   "metadata": {},
   "outputs": [],
   "source": [
    "random_state = 42\n",
    "\n",
    "# Dataset\n",
    "train_data = CSVDataset(\n",
    "    \"../data/INSECTS/INSECTS_Abr.csv.gz\",\n",
    "    train=True,\n",
    "    random_state=random_state,\n",
    ")\n",
    "test_data = CSVDataset(\n",
    "    \"../data/INSECTS/INSECTS_Abr.csv.gz\",\n",
    "    train=False,\n",
    "    random_state=random_state,\n",
    ")\n",
    "\n",
    "# DataLoader\n",
    "train_loader = DataLoader(\n",
    "    train_data,\n",
    "    batch_size=128,\n",
    ")\n",
    "test_loader = DataLoader(\n",
    "    test_data,\n",
    "    batch_size=64,\n",
    ")"
   ]
  },
  {
   "cell_type": "code",
   "execution_count": 6,
   "metadata": {},
   "outputs": [],
   "source": [
    "# Anomaly Detector\n",
    "auto_encoder = BasicAutoEncoder(\n",
    "    encoder_dims=[33, 28, 23, 18],\n",
    "    decoder_dims=[18, 23, 28, 33],\n",
    "    batch_norm=True,\n",
    ")\n",
    "detector = BasicDetector(auto_encoder)"
   ]
  },
  {
   "cell_type": "code",
   "execution_count": 7,
   "metadata": {},
   "outputs": [
    {
     "name": "stderr",
     "output_type": "stream",
     "text": [
      "2024-06-05 09:57:04,432 [INFO] __main__: Start training the model...\n",
      "2024-06-05 09:57:04,432 [INFO] __main__: Epoch: 1\n",
      "2024-06-05 09:57:04,895 [INFO] __main__: Loss: 0.227513\n",
      "2024-06-05 09:57:05,119 [INFO] __main__: Loss: 0.123720\n",
      "2024-06-05 09:57:05,323 [INFO] __main__: Loss: 0.068946\n",
      "2024-06-05 09:57:05,408 [INFO] __main__: Epoch: 2\n",
      "2024-06-05 09:57:05,411 [INFO] __main__: Loss: 0.052431\n",
      "2024-06-05 09:57:05,613 [INFO] __main__: Loss: 0.027646\n",
      "2024-06-05 09:57:05,813 [INFO] __main__: Loss: 0.015600\n",
      "2024-06-05 09:57:05,899 [INFO] __main__: Epoch: 3\n",
      "2024-06-05 09:57:05,901 [INFO] __main__: Loss: 0.013050\n",
      "2024-06-05 09:57:06,109 [INFO] __main__: Loss: 0.009227\n",
      "2024-06-05 09:57:06,308 [INFO] __main__: Loss: 0.006972\n",
      "2024-06-05 09:57:06,393 [INFO] __main__: Epoch: 4\n",
      "2024-06-05 09:57:06,396 [INFO] __main__: Loss: 0.006869\n",
      "2024-06-05 09:57:06,593 [INFO] __main__: Loss: 0.006644\n",
      "2024-06-05 09:57:06,788 [INFO] __main__: Loss: 0.005120\n",
      "2024-06-05 09:57:06,872 [INFO] __main__: Epoch: 5\n",
      "2024-06-05 09:57:06,874 [INFO] __main__: Loss: 0.005216\n",
      "2024-06-05 09:57:07,068 [INFO] __main__: Loss: 0.005788\n",
      "2024-06-05 09:57:07,259 [INFO] __main__: Loss: 0.004387\n",
      "2024-06-05 09:57:07,340 [INFO] __main__: Completed training the model!\n"
     ]
    }
   ],
   "source": [
    "# Training\n",
    "epochs = 5\n",
    "logger.info(\"Start training the model...\")\n",
    "for epoch in range(epochs):\n",
    "    logger.info(f\"Epoch: {epoch+1}\")\n",
    "    for batch, (X, _) in enumerate(train_loader):\n",
    "        loss = detector.train(X)\n",
    "\n",
    "        if batch % 100 == 0:\n",
    "            logger.info(f\"Loss: {loss.item():>7f}\")\n",
    "logger.info(\"Completed training the model!\")"
   ]
  },
  {
   "cell_type": "code",
   "execution_count": 9,
   "metadata": {},
   "outputs": [
    {
     "name": "stderr",
     "output_type": "stream",
     "text": [
      "2024-06-05 09:58:29,924 [INFO] __main__: AUROC Score: 0.51187241667705\n",
      "2024-06-05 09:58:29,928 [INFO] __main__: AUPRC Score: 0.014189984649419785\n",
      "2024-06-05 09:58:29,928 [INFO] __main__: Completed the evaluation of the model!\n"
     ]
    }
   ],
   "source": [
    "# Area Under the ROC Curve\n",
    "auroc = BinaryAUROC()\n",
    "# Area Under the Precision-Recall Curve\n",
    "auprc = BinaryAUPRC()\n",
    "\n",
    "pr_curve = BinaryPrecisionRecallCurve()\n",
    "\n",
    "for X, y in test_loader:\n",
    "    scores = detector.predict(X)\n",
    "    auroc.update(scores, y)\n",
    "    auprc.update(scores, y)\n",
    "    pr_curve.update(scores, y)\n",
    "\n",
    "# Compute evaluatin scores\n",
    "logger.info(f\"AUROC Score: {auroc.compute()}\")\n",
    "logger.info(f\"AUPRC Score: {auprc.compute()}\")\n",
    "\n",
    "logger.info(\"Completed the evaluation of the model!\")"
   ]
  },
  {
   "cell_type": "code",
   "execution_count": 10,
   "metadata": {},
   "outputs": [
    {
     "data": {
      "image/png": "[encoded data removed]",
      "text/plain": [
       "<Figure size 800x600 with 1 Axes>"
      ]
     },
     "metadata": {},
     "output_type": "display_data"
    }
   ],
   "source": [
    "# Visualize Precision-Recall Curve\n",
    "precision, recall, thresholds = pr_curve.compute()\n",
    "\n",
    "plt.figure(figsize=(8, 6))\n",
    "plt.plot(recall, precision, label=\"Precision-Recall curve\")\n",
    "plt.xlabel(\"Recall\")\n",
    "plt.ylabel(\"Precision\")\n",
    "plt.title(\"Precision-Recall Curve\")\n",
    "plt.legend(loc=\"best\")\n",
    "plt.grid()\n",
    "plt.show()"
   ]
  }
 ],
 "metadata": {
  "kernelspec": {
   "display_name": ".venv",
   "language": "python",
   "name": "python3"
  },
  "language_info": {
   "codemirror_mode": {
    "name": "ipython",
    "version": 3
   },
   "file_extension": ".py",
   "mimetype": "text/x-python",
   "name": "python",
   "nbconvert_exporter": "python",
   "pygments_lexer": "ipython3",
   "version": "3.12.2"
  }
 },
 "nbformat": 4,
 "nbformat_minor": 2
}
