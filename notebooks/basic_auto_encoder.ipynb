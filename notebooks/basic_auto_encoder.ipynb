{
 "cells": [
  {
   "cell_type": "code",
   "execution_count": 1,
   "metadata": {},
   "outputs": [],
   "source": [
    "from logging import getLogger\n",
    "from logging.config import dictConfig\n",
    "\n",
    "from torch.utils.data import DataLoader\n",
    "from torcheval.metrics import BinaryAUROC\n",
    "from yaml import safe_load\n",
    "\n",
    "from streamvigil import ADBenchDataset\n",
    "from streamvigil.detectors import BasicAutoEncoder, BasicDetector"
   ]
  },
  {
   "cell_type": "code",
   "execution_count": 3,
   "metadata": {},
   "outputs": [],
   "source": [
    "# Logger\n",
    "with open(\"./logging.yml\", encoding=\"utf-8\") as file:\n",
    "    config = safe_load(file)\n",
    "dictConfig(config)\n",
    "logger = getLogger(__name__)"
   ]
  },
  {
   "cell_type": "code",
   "execution_count": 4,
   "metadata": {},
   "outputs": [],
   "source": [
    "# Anomaly Detector\n",
    "auto_encoder = BasicAutoEncoder(\n",
    "    encoder_dims=[500, 450, 400, 350, 300, 250],\n",
    "    decoder_dims=[250, 300, 350, 400, 450, 500],\n",
    "    batch_norm=True,\n",
    ")\n",
    "detector = BasicDetector(auto_encoder)"
   ]
  },
  {
   "cell_type": "code",
   "execution_count": 6,
   "metadata": {},
   "outputs": [],
   "source": [
    "random_state = 42\n",
    "\n",
    "# Load dataset\n",
    "train_data = ADBenchDataset(\n",
    "    \"../data/9_census.npz\",\n",
    "    train=True,\n",
    "    random_state=random_state,\n",
    ")\n",
    "test_data = ADBenchDataset(\n",
    "    \"../data/9_census.npz\",\n",
    "    train=False,\n",
    "    random_state=random_state,\n",
    ")\n",
    "\n",
    "# DataLoader\n",
    "train_loader = DataLoader(train_data, batch_size=512)\n",
    "test_loader = DataLoader(test_data, batch_size=256)"
   ]
  },
  {
   "cell_type": "code",
   "execution_count": 7,
   "metadata": {},
   "outputs": [
    {
     "name": "stderr",
     "output_type": "stream",
     "text": [
      "2024-04-24 22:18:33,144 [INFO] __main__: Start training the model...\n",
      "2024-04-24 22:18:33,145 [INFO] __main__: Epoch: 1\n",
      "2024-04-24 22:18:33,449 [INFO] __main__: Loss: 0.229919\n",
      "2024-04-24 22:18:34,958 [INFO] __main__: Loss: 0.014244\n",
      "2024-04-24 22:18:36,509 [INFO] __main__: Loss: 0.011419\n",
      "2024-04-24 22:18:38,036 [INFO] __main__: Loss: 0.010067\n",
      "2024-04-24 22:18:39,493 [INFO] __main__: Loss: 0.009719\n",
      "2024-04-24 22:18:39,621 [INFO] __main__: Epoch: 2\n",
      "2024-04-24 22:18:39,636 [INFO] __main__: Loss: 0.009923\n",
      "2024-04-24 22:18:41,163 [INFO] __main__: Loss: 0.009176\n",
      "2024-04-24 22:18:42,755 [INFO] __main__: Loss: 0.007920\n",
      "2024-04-24 22:18:44,208 [INFO] __main__: Loss: 0.007418\n",
      "2024-04-24 22:18:45,716 [INFO] __main__: Loss: 0.007440\n",
      "2024-04-24 22:18:45,839 [INFO] __main__: Epoch: 3\n",
      "2024-04-24 22:18:45,855 [INFO] __main__: Loss: 0.007788\n",
      "2024-04-24 22:18:47,299 [INFO] __main__: Loss: 0.007400\n",
      "2024-04-24 22:18:48,757 [INFO] __main__: Loss: 0.006511\n",
      "2024-04-24 22:18:50,220 [INFO] __main__: Loss: 0.006253\n",
      "2024-04-24 22:18:51,651 [INFO] __main__: Loss: 0.006277\n",
      "2024-04-24 22:18:51,777 [INFO] __main__: Epoch: 4\n",
      "2024-04-24 22:18:51,792 [INFO] __main__: Loss: 0.006681\n",
      "2024-04-24 22:18:53,174 [INFO] __main__: Loss: 0.006375\n",
      "2024-04-24 22:18:54,644 [INFO] __main__: Loss: 0.005695\n",
      "2024-04-24 22:18:56,153 [INFO] __main__: Loss: 0.005519\n",
      "2024-04-24 22:18:57,606 [INFO] __main__: Loss: 0.005555\n",
      "2024-04-24 22:18:57,721 [INFO] __main__: Epoch: 5\n",
      "2024-04-24 22:18:57,734 [INFO] __main__: Loss: 0.005921\n",
      "2024-04-24 22:18:59,028 [INFO] __main__: Loss: 0.005715\n",
      "2024-04-24 22:19:00,336 [INFO] __main__: Loss: 0.005096\n",
      "2024-04-24 22:19:01,753 [INFO] __main__: Loss: 0.005004\n",
      "2024-04-24 22:19:03,153 [INFO] __main__: Loss: 0.005089\n",
      "2024-04-24 22:19:03,272 [INFO] __main__: Epoch: 6\n",
      "2024-04-24 22:19:03,285 [INFO] __main__: Loss: 0.005402\n",
      "2024-04-24 22:19:04,659 [INFO] __main__: Loss: 0.005224\n",
      "2024-04-24 22:19:05,971 [INFO] __main__: Loss: 0.004668\n",
      "2024-04-24 22:19:07,341 [INFO] __main__: Loss: 0.004612\n",
      "2024-04-24 22:19:08,764 [INFO] __main__: Loss: 0.004622\n",
      "2024-04-24 22:19:08,879 [INFO] __main__: Epoch: 7\n",
      "2024-04-24 22:19:08,892 [INFO] __main__: Loss: 0.004976\n",
      "2024-04-24 22:19:10,338 [INFO] __main__: Loss: 0.004834\n",
      "2024-04-24 22:19:11,683 [INFO] __main__: Loss: 0.004343\n",
      "2024-04-24 22:19:12,992 [INFO] __main__: Loss: 0.004285\n",
      "2024-04-24 22:19:14,333 [INFO] __main__: Loss: 0.004281\n",
      "2024-04-24 22:19:14,452 [INFO] __main__: Epoch: 8\n",
      "2024-04-24 22:19:14,465 [INFO] __main__: Loss: 0.004615\n",
      "2024-04-24 22:19:15,792 [INFO] __main__: Loss: 0.004519\n",
      "2024-04-24 22:19:17,113 [INFO] __main__: Loss: 0.004079\n",
      "2024-04-24 22:19:18,458 [INFO] __main__: Loss: 0.004026\n",
      "2024-04-24 22:19:19,831 [INFO] __main__: Loss: 0.004030\n",
      "2024-04-24 22:19:19,945 [INFO] __main__: Epoch: 9\n",
      "2024-04-24 22:19:19,960 [INFO] __main__: Loss: 0.004348\n",
      "2024-04-24 22:19:21,300 [INFO] __main__: Loss: 0.004279\n",
      "2024-04-24 22:19:22,656 [INFO] __main__: Loss: 0.003783\n",
      "2024-04-24 22:19:24,002 [INFO] __main__: Loss: 0.003815\n",
      "2024-04-24 22:19:25,313 [INFO] __main__: Loss: 0.003801\n",
      "2024-04-24 22:19:25,429 [INFO] __main__: Epoch: 10\n",
      "2024-04-24 22:19:25,442 [INFO] __main__: Loss: 0.004101\n",
      "2024-04-24 22:19:26,818 [INFO] __main__: Loss: 0.004055\n",
      "2024-04-24 22:19:28,180 [INFO] __main__: Loss: 0.003674\n",
      "2024-04-24 22:19:29,474 [INFO] __main__: Loss: 0.003623\n",
      "2024-04-24 22:19:30,923 [INFO] __main__: Loss: 0.003589\n",
      "2024-04-24 22:19:31,043 [INFO] __main__: Completed training the model!\n"
     ]
    }
   ],
   "source": [
    "# Training\n",
    "epochs = 10\n",
    "logger.info(\"Start training the model...\")\n",
    "for epoch in range(epochs):\n",
    "    logger.info(f\"Epoch: {epoch+1}\")\n",
    "    for batch, (X, _) in enumerate(train_loader):\n",
    "        loss = detector.train(X)\n",
    "\n",
    "        if batch % 100 == 0:\n",
    "            logger.info(f\"Loss: {loss.item():>7f}\")\n",
    "logger.info(\"Completed training the model!\")"
   ]
  },
  {
   "cell_type": "code",
   "execution_count": 8,
   "metadata": {},
   "outputs": [
    {
     "name": "stderr",
     "output_type": "stream",
     "text": [
      "2024-04-24 22:20:12,321 [INFO] __main__: Start evaluating the model...\n",
      "2024-04-24 22:20:13,573 [INFO] __main__: AUROC Score: 0.6433006437574451\n",
      "2024-04-24 22:20:13,574 [INFO] __main__: Completed the evaluation of the model!\n"
     ]
    }
   ],
   "source": [
    "# Evaluation\n",
    "metrics = BinaryAUROC()\n",
    "logger.info(\"Start evaluating the model...\")\n",
    "\n",
    "for X, y in test_loader:\n",
    "    scores = detector.predict(X)\n",
    "    metrics.update(scores, y)\n",
    "\n",
    "# Compute AUROC score   \n",
    "logger.info(f\"AUROC Score: {metrics.compute()}\")\n",
    "\n",
    "logger.info(\"Completed the evaluation of the model!\")"
   ]
  }
 ],
 "metadata": {
  "kernelspec": {
   "display_name": ".venv",
   "language": "python",
   "name": "python3"
  },
  "language_info": {
   "codemirror_mode": {
    "name": "ipython",
    "version": 3
   },
   "file_extension": ".py",
   "mimetype": "text/x-python",
   "name": "python",
   "nbconvert_exporter": "python",
   "pygments_lexer": "ipython3",
   "version": "3.12.2"
  }
 },
 "nbformat": 4,
 "nbformat_minor": 2
}
