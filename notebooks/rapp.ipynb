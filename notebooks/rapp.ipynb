{
 "cells": [
  {
   "cell_type": "code",
   "execution_count": 1,
   "metadata": {},
   "outputs": [],
   "source": [
    "from logging import getLogger\n",
    "from logging.config import dictConfig\n",
    "\n",
    "from torch.utils.data import DataLoader\n",
    "from torcheval.metrics import BinaryAUROC\n",
    "from yaml import safe_load\n",
    "\n",
    "from streamvigil import ADBenchDataset\n",
    "from streamvigil.detectors import RAPP"
   ]
  },
  {
   "cell_type": "code",
   "execution_count": 2,
   "metadata": {},
   "outputs": [],
   "source": [
    "# Logger\n",
    "with open(\"./logging.yml\", encoding=\"utf-8\") as file:\n",
    "        config = safe_load(file)\n",
    "dictConfig(config)\n",
    "logger = getLogger(__name__)"
   ]
  },
  {
   "cell_type": "code",
   "execution_count": 3,
   "metadata": {},
   "outputs": [],
   "source": [
    "# Anomaly Detector\n",
    "detector = RAPP(\n",
    "    encoder_dims=[500, 450, 400, 350, 300],\n",
    "    decoder_dims=[300, 350, 400, 450, 500],\n",
    "    batch_norm=True,\n",
    ")"
   ]
  },
  {
   "cell_type": "code",
   "execution_count": 4,
   "metadata": {},
   "outputs": [],
   "source": [
    "random_state = 42\n",
    "\n",
    "# Load dataset\n",
    "train_data = ADBenchDataset(\n",
    "    \"../data/9_census.npz\",\n",
    "    train=True,\n",
    "    random_state=random_state,\n",
    ")\n",
    "test_data = ADBenchDataset(\n",
    "    \"../data/9_census.npz\",\n",
    "    train=False,\n",
    "    random_state=random_state,\n",
    ")\n",
    "\n",
    "# DataLoader\n",
    "train_loader = DataLoader(train_data, batch_size=512)\n",
    "test_loader = DataLoader(test_data, batch_size=256)"
   ]
  },
  {
   "cell_type": "code",
   "execution_count": 5,
   "metadata": {},
   "outputs": [
    {
     "name": "stderr",
     "output_type": "stream",
     "text": [
      "2024-06-03 14:15:27,045 [INFO] __main__: Start training the model...\n",
      "2024-06-03 14:15:27,046 [INFO] __main__: Epoch: 1\n",
      "2024-06-03 14:15:27,416 [INFO] __main__: Loss: 0.238733\n",
      "2024-06-03 14:15:28,664 [INFO] __main__: Loss: 0.014138\n",
      "2024-06-03 14:15:29,926 [INFO] __main__: Loss: 0.011301\n",
      "2024-06-03 14:15:31,270 [INFO] __main__: Loss: 0.009537\n",
      "2024-06-03 14:15:32,651 [INFO] __main__: Loss: 0.009074\n",
      "2024-06-03 14:15:32,766 [INFO] __main__: Completed training the model!\n"
     ]
    }
   ],
   "source": [
    "# Training\n",
    "epochs = 1\n",
    "logger.info(\"Start training the model...\")\n",
    "for epoch in range(epochs):\n",
    "    logger.info(f\"Epoch: {epoch+1}\")\n",
    "    for batch, (X, _) in enumerate(train_loader):\n",
    "        loss = detector.train(X)\n",
    "\n",
    "        if batch % 100 == 0:\n",
    "            logger.info(f\"Loss: {loss.item():>7f}\")\n",
    "logger.info(\"Completed training the model!\")"
   ]
  },
  {
   "cell_type": "code",
   "execution_count": 6,
   "metadata": {},
   "outputs": [
    {
     "name": "stderr",
     "output_type": "stream",
     "text": [
      "2024-06-03 14:15:32,770 [INFO] __main__: Start evaluating the model...\n",
      "2024-06-03 14:15:41,208 [INFO] __main__: AUROC Score: 0.5235314614347395\n",
      "2024-06-03 14:15:41,209 [INFO] __main__: Completed the evaluation of the model!\n"
     ]
    }
   ],
   "source": [
    "# Evaluation\n",
    "metrics = BinaryAUROC()\n",
    "logger.info(\"Start evaluating the model...\")\n",
    "\n",
    "for X, y in test_loader:\n",
    "    scores = detector.predict(X)\n",
    "    metrics.update(scores, y)\n",
    "\n",
    "# Compute AUROC score\n",
    "logger.info(f\"AUROC Score: {metrics.compute()}\")\n",
    "\n",
    "logger.info(\"Completed the evaluation of the model!\")"
   ]
  }
 ],
 "metadata": {
  "kernelspec": {
   "display_name": ".venv",
   "language": "python",
   "name": "python3"
  },
  "language_info": {
   "codemirror_mode": {
    "name": "ipython",
    "version": 3
   },
   "file_extension": ".py",
   "mimetype": "text/x-python",
   "name": "python",
   "nbconvert_exporter": "python",
   "pygments_lexer": "ipython3",
   "version": "3.12.2"
  }
 },
 "nbformat": 4,
 "nbformat_minor": 2
}
