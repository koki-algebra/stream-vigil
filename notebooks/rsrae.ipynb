{
 "cells": [
  {
   "cell_type": "code",
   "execution_count": 1,
   "metadata": {},
   "outputs": [],
   "source": [
    "from logging import getLogger\n",
    "from logging.config import dictConfig\n",
    "\n",
    "from torch.utils.data import DataLoader\n",
    "from torcheval.metrics import BinaryAUROC\n",
    "from yaml import safe_load\n",
    "\n",
    "from streamvigil import ADBenchDataset\n",
    "from streamvigil.detectors import RSRAE"
   ]
  },
  {
   "cell_type": "code",
   "execution_count": 2,
   "metadata": {},
   "outputs": [],
   "source": [
    "# Logger\n",
    "with open(\"./logging.yml\", encoding=\"utf-8\") as file:\n",
    "        config = safe_load(file)\n",
    "dictConfig(config)\n",
    "logger = getLogger(__name__)"
   ]
  },
  {
   "cell_type": "code",
   "execution_count": 3,
   "metadata": {},
   "outputs": [],
   "source": [
    "# Anomaly Detector\n",
    "detector = RSRAE(\n",
    "    encoder_dims=[500, 450, 400, 350, 300],\n",
    "    decoder_dims=[250, 300, 350, 400, 450, 500],\n",
    "    rsr_dim=250,\n",
    "    batch_norm=True,\n",
    ")"
   ]
  },
  {
   "cell_type": "code",
   "execution_count": 4,
   "metadata": {},
   "outputs": [],
   "source": [
    "random_state = 42\n",
    "\n",
    "# Load dataset\n",
    "train_data = ADBenchDataset(\n",
    "    \"../data/9_census.npz\",\n",
    "    train=True,\n",
    "    random_state=random_state,\n",
    ")\n",
    "test_data = ADBenchDataset(\n",
    "    \"../data/9_census.npz\",\n",
    "    train=False,\n",
    "    random_state=random_state,\n",
    ")\n",
    "\n",
    "# DataLoader\n",
    "train_loader = DataLoader(train_data, batch_size=512)\n",
    "test_loader = DataLoader(test_data, batch_size=256)"
   ]
  },
  {
   "cell_type": "code",
   "execution_count": 5,
   "metadata": {},
   "outputs": [
    {
     "name": "stderr",
     "output_type": "stream",
     "text": [
      "2024-05-22 17:29:10,868 [INFO] __main__: Start training the model...\n",
      "2024-05-22 17:29:10,868 [INFO] __main__: Epoch: 1\n",
      "2024-05-22 17:29:11,612 [INFO] __main__: Loss: 533.092407\n",
      "2024-05-22 17:29:12,083 [INFO] __main__: Loss: 188.272400\n",
      "2024-05-22 17:29:12,545 [INFO] __main__: Loss: 106.492523\n",
      "2024-05-22 17:29:13,052 [INFO] __main__: Loss: 77.755112\n",
      "2024-05-22 17:29:13,532 [INFO] __main__: Loss: 65.129623\n",
      "2024-05-22 17:29:13,624 [INFO] __main__: Epoch: 2\n",
      "2024-05-22 17:29:13,630 [INFO] __main__: Loss: 64.354080\n",
      "2024-05-22 17:29:14,110 [INFO] __main__: Loss: 57.979958\n",
      "2024-05-22 17:29:14,565 [INFO] __main__: Loss: 48.900391\n",
      "2024-05-22 17:29:15,069 [INFO] __main__: Loss: 45.762047\n",
      "2024-05-22 17:29:15,532 [INFO] __main__: Loss: 43.174583\n",
      "2024-05-22 17:29:15,572 [INFO] __main__: Epoch: 3\n",
      "2024-05-22 17:29:15,578 [INFO] __main__: Loss: 42.712120\n",
      "2024-05-22 17:29:16,067 [INFO] __main__: Loss: 41.275291\n",
      "2024-05-22 17:29:16,555 [INFO] __main__: Loss: 38.750240\n",
      "2024-05-22 17:29:17,080 [INFO] __main__: Loss: 38.245285\n",
      "2024-05-22 17:29:17,546 [INFO] __main__: Loss: 37.342590\n",
      "2024-05-22 17:29:17,586 [INFO] __main__: Epoch: 4\n",
      "2024-05-22 17:29:17,591 [INFO] __main__: Loss: 36.724087\n",
      "2024-05-22 17:29:18,111 [INFO] __main__: Loss: 35.712044\n",
      "2024-05-22 17:29:18,582 [INFO] __main__: Loss: 34.227703\n",
      "2024-05-22 17:29:19,033 [INFO] __main__: Loss: 33.618073\n",
      "2024-05-22 17:29:19,502 [INFO] __main__: Loss: 32.440723\n",
      "2024-05-22 17:29:19,542 [INFO] __main__: Epoch: 5\n",
      "2024-05-22 17:29:19,548 [INFO] __main__: Loss: 32.782707\n",
      "2024-05-22 17:29:20,060 [INFO] __main__: Loss: 33.012848\n",
      "2024-05-22 17:29:20,539 [INFO] __main__: Loss: 30.940662\n",
      "2024-05-22 17:29:21,054 [INFO] __main__: Loss: 30.470097\n",
      "2024-05-22 17:29:21,526 [INFO] __main__: Loss: 30.084846\n",
      "2024-05-22 17:29:21,566 [INFO] __main__: Epoch: 6\n",
      "2024-05-22 17:29:21,571 [INFO] __main__: Loss: 31.341896\n",
      "2024-05-22 17:29:22,035 [INFO] __main__: Loss: 31.147875\n",
      "2024-05-22 17:29:22,516 [INFO] __main__: Loss: 28.245895\n",
      "2024-05-22 17:29:23,048 [INFO] __main__: Loss: 27.606052\n",
      "2024-05-22 17:29:23,525 [INFO] __main__: Loss: 27.047659\n",
      "2024-05-22 17:29:23,567 [INFO] __main__: Epoch: 7\n",
      "2024-05-22 17:29:23,572 [INFO] __main__: Loss: 29.225424\n",
      "2024-05-22 17:29:24,095 [INFO] __main__: Loss: 28.476305\n",
      "2024-05-22 17:29:24,578 [INFO] __main__: Loss: 26.582096\n",
      "2024-05-22 17:29:25,051 [INFO] __main__: Loss: 25.875401\n",
      "2024-05-22 17:29:25,537 [INFO] __main__: Loss: 25.993849\n",
      "2024-05-22 17:29:25,581 [INFO] __main__: Epoch: 8\n",
      "2024-05-22 17:29:25,586 [INFO] __main__: Loss: 28.414047\n",
      "2024-05-22 17:29:26,112 [INFO] __main__: Loss: 27.855179\n",
      "2024-05-22 17:29:26,594 [INFO] __main__: Loss: 25.470013\n",
      "2024-05-22 17:29:27,125 [INFO] __main__: Loss: 25.126276\n",
      "2024-05-22 17:29:27,605 [INFO] __main__: Loss: 27.145950\n",
      "2024-05-22 17:29:27,646 [INFO] __main__: Epoch: 9\n",
      "2024-05-22 17:29:27,651 [INFO] __main__: Loss: 26.613575\n",
      "2024-05-22 17:29:28,126 [INFO] __main__: Loss: 26.929579\n",
      "2024-05-22 17:29:28,609 [INFO] __main__: Loss: 25.155720\n",
      "2024-05-22 17:29:29,134 [INFO] __main__: Loss: 25.214443\n",
      "2024-05-22 17:29:29,618 [INFO] __main__: Loss: 25.131668\n",
      "2024-05-22 17:29:29,664 [INFO] __main__: Epoch: 10\n",
      "2024-05-22 17:29:29,669 [INFO] __main__: Loss: 25.792744\n",
      "2024-05-22 17:29:30,193 [INFO] __main__: Loss: 26.517414\n",
      "2024-05-22 17:29:30,673 [INFO] __main__: Loss: 25.707518\n",
      "2024-05-22 17:29:31,148 [INFO] __main__: Loss: 26.320837\n",
      "2024-05-22 17:29:31,626 [INFO] __main__: Loss: 27.135771\n",
      "2024-05-22 17:29:31,667 [INFO] __main__: Completed training the model!\n"
     ]
    }
   ],
   "source": [
    "# Training\n",
    "epochs = 10\n",
    "logger.info(\"Start training the model...\")\n",
    "for epoch in range(epochs):\n",
    "    logger.info(f\"Epoch: {epoch+1}\")\n",
    "    for batch, (X, _) in enumerate(train_loader):\n",
    "        loss = detector.train(X)\n",
    "\n",
    "        if batch % 100 == 0:\n",
    "            logger.info(f\"Loss: {loss.item():>7f}\")\n",
    "logger.info(\"Completed training the model!\")"
   ]
  },
  {
   "cell_type": "code",
   "execution_count": 6,
   "metadata": {},
   "outputs": [
    {
     "name": "stderr",
     "output_type": "stream",
     "text": [
      "2024-05-22 17:29:31,673 [INFO] __main__: Start evaluating the model...\n",
      "2024-05-22 17:29:32,339 [INFO] __main__: AUROC Score: 0.4324809299243133\n",
      "2024-05-22 17:29:32,340 [INFO] __main__: Completed the evaluation of the model!\n"
     ]
    }
   ],
   "source": [
    "# Evaluation\n",
    "metrics = BinaryAUROC()\n",
    "logger.info(\"Start evaluating the model...\")\n",
    "\n",
    "for X, y in test_loader:\n",
    "    scores = detector.predict(X)\n",
    "    metrics.update(scores, y)\n",
    "\n",
    "# Compute AUROC score\n",
    "logger.info(f\"AUROC Score: {metrics.compute()}\")\n",
    "\n",
    "logger.info(\"Completed the evaluation of the model!\")"
   ]
  }
 ],
 "metadata": {
  "kernelspec": {
   "display_name": ".venv",
   "language": "python",
   "name": "python3"
  },
  "language_info": {
   "codemirror_mode": {
    "name": "ipython",
    "version": 3
   },
   "file_extension": ".py",
   "mimetype": "text/x-python",
   "name": "python",
   "nbconvert_exporter": "python",
   "pygments_lexer": "ipython3",
   "version": "3.12.2"
  }
 },
 "nbformat": 4,
 "nbformat_minor": 2
}
