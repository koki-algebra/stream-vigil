{
 "cells": [
  {
   "cell_type": "code",
   "execution_count": 1,
   "metadata": {},
   "outputs": [],
   "source": [
    "from logging import getLogger\n",
    "from logging.config import dictConfig\n",
    "\n",
    "from torch.utils.data import DataLoader\n",
    "from torcheval.metrics import BinaryAUROC\n",
    "from yaml import safe_load\n",
    "\n",
    "from streamvigil import ADBenchDataset\n",
    "from streamvigil.detectors import RSRAE"
   ]
  },
  {
   "cell_type": "code",
   "execution_count": 2,
   "metadata": {},
   "outputs": [],
   "source": [
    "# Logger\n",
    "with open(\"./logging.yml\", encoding=\"utf-8\") as file:\n",
    "        config = safe_load(file)\n",
    "dictConfig(config)\n",
    "logger = getLogger(__name__)"
   ]
  },
  {
   "cell_type": "code",
   "execution_count": 3,
   "metadata": {},
   "outputs": [],
   "source": [
    "# Anomaly Detector\n",
    "detector = RSRAE(\n",
    "    encoder_dims=[500, 450, 400, 350, 300],\n",
    "    decoder_dims=[250, 300, 350, 400, 450, 500],\n",
    "    rsr_dim=250,\n",
    "    batch_norm=True,\n",
    ")"
   ]
  },
  {
   "cell_type": "code",
   "execution_count": 4,
   "metadata": {},
   "outputs": [],
   "source": [
    "random_state = 42\n",
    "\n",
    "# Load dataset\n",
    "train_data = ADBenchDataset(\n",
    "    \"../data/9_census.npz\",\n",
    "    train=True,\n",
    "    random_state=random_state,\n",
    ")\n",
    "test_data = ADBenchDataset(\n",
    "    \"../data/9_census.npz\",\n",
    "    train=False,\n",
    "    random_state=random_state,\n",
    ")\n",
    "\n",
    "# DataLoader\n",
    "train_loader = DataLoader(train_data, batch_size=512)\n",
    "test_loader = DataLoader(test_data, batch_size=256)"
   ]
  },
  {
   "cell_type": "code",
   "execution_count": 5,
   "metadata": {},
   "outputs": [
    {
     "name": "stderr",
     "output_type": "stream",
     "text": [
      "2024-04-24 23:30:59,569 [INFO] __main__: Start training the model...\n",
      "2024-04-24 23:30:59,569 [INFO] __main__: Epoch: 1\n",
      "2024-04-24 23:30:59,932 [INFO] __main__: Loss: 526.431702\n",
      "2024-04-24 23:31:02,076 [INFO] __main__: Loss: 145.038376\n",
      "2024-04-24 23:31:03,980 [INFO] __main__: Loss: 85.928146\n",
      "2024-04-24 23:31:05,925 [INFO] __main__: Loss: 64.805748\n",
      "2024-04-24 23:31:07,785 [INFO] __main__: Loss: 49.371063\n",
      "2024-04-24 23:31:07,944 [INFO] __main__: Epoch: 2\n",
      "2024-04-24 23:31:07,967 [INFO] __main__: Loss: 47.522552\n",
      "2024-04-24 23:31:09,929 [INFO] __main__: Loss: 39.259193\n",
      "2024-04-24 23:31:11,920 [INFO] __main__: Loss: 32.623493\n",
      "2024-04-24 23:31:13,769 [INFO] __main__: Loss: 29.601597\n",
      "2024-04-24 23:31:15,742 [INFO] __main__: Loss: 26.740170\n",
      "2024-04-24 23:31:15,897 [INFO] __main__: Epoch: 3\n",
      "2024-04-24 23:31:15,915 [INFO] __main__: Loss: 25.979897\n",
      "2024-04-24 23:31:17,761 [INFO] __main__: Loss: 24.746241\n",
      "2024-04-24 23:31:19,754 [INFO] __main__: Loss: 22.738628\n",
      "2024-04-24 23:31:21,775 [INFO] __main__: Loss: 23.016718\n",
      "2024-04-24 23:31:23,910 [INFO] __main__: Loss: 22.242239\n",
      "2024-04-24 23:31:24,084 [INFO] __main__: Epoch: 4\n",
      "2024-04-24 23:31:24,104 [INFO] __main__: Loss: 21.899742\n",
      "2024-04-24 23:31:26,108 [INFO] __main__: Loss: 21.493437\n",
      "2024-04-24 23:31:28,053 [INFO] __main__: Loss: 19.996122\n",
      "2024-04-24 23:31:29,993 [INFO] __main__: Loss: 21.624632\n",
      "2024-04-24 23:31:31,863 [INFO] __main__: Loss: 21.252790\n",
      "2024-04-24 23:31:32,025 [INFO] __main__: Epoch: 5\n",
      "2024-04-24 23:31:32,047 [INFO] __main__: Loss: 19.936148\n",
      "2024-04-24 23:31:33,981 [INFO] __main__: Loss: 20.496960\n",
      "2024-04-24 23:31:36,001 [INFO] __main__: Loss: 18.773777\n",
      "2024-04-24 23:31:37,995 [INFO] __main__: Loss: 20.762857\n",
      "2024-04-24 23:31:39,970 [INFO] __main__: Loss: 20.233940\n",
      "2024-04-24 23:31:40,128 [INFO] __main__: Epoch: 6\n",
      "2024-04-24 23:31:40,146 [INFO] __main__: Loss: 19.951996\n",
      "2024-04-24 23:31:42,140 [INFO] __main__: Loss: 19.045399\n",
      "2024-04-24 23:31:44,121 [INFO] __main__: Loss: 17.926922\n",
      "2024-04-24 23:31:46,056 [INFO] __main__: Loss: 19.667130\n",
      "2024-04-24 23:31:48,091 [INFO] __main__: Loss: 19.119970\n",
      "2024-04-24 23:31:48,243 [INFO] __main__: Epoch: 7\n",
      "2024-04-24 23:31:48,261 [INFO] __main__: Loss: 18.352978\n",
      "2024-04-24 23:31:50,200 [INFO] __main__: Loss: 18.364702\n",
      "2024-04-24 23:31:52,054 [INFO] __main__: Loss: 17.513250\n",
      "2024-04-24 23:31:53,915 [INFO] __main__: Loss: 18.985315\n",
      "2024-04-24 23:31:55,792 [INFO] __main__: Loss: 17.539639\n",
      "2024-04-24 23:31:55,958 [INFO] __main__: Epoch: 8\n",
      "2024-04-24 23:31:55,978 [INFO] __main__: Loss: 17.904243\n",
      "2024-04-24 23:31:57,945 [INFO] __main__: Loss: 17.465319\n",
      "2024-04-24 23:31:59,948 [INFO] __main__: Loss: 16.633286\n",
      "2024-04-24 23:32:01,920 [INFO] __main__: Loss: 16.810833\n",
      "2024-04-24 23:32:03,856 [INFO] __main__: Loss: 16.475368\n",
      "2024-04-24 23:32:04,005 [INFO] __main__: Epoch: 9\n",
      "2024-04-24 23:32:04,023 [INFO] __main__: Loss: 16.923080\n",
      "2024-04-24 23:32:05,858 [INFO] __main__: Loss: 16.425461\n",
      "2024-04-24 23:32:07,739 [INFO] __main__: Loss: 16.450672\n",
      "2024-04-24 23:32:09,603 [INFO] __main__: Loss: 16.311586\n",
      "2024-04-24 23:32:11,419 [INFO] __main__: Loss: 16.493145\n",
      "2024-04-24 23:32:11,567 [INFO] __main__: Epoch: 10\n",
      "2024-04-24 23:32:11,586 [INFO] __main__: Loss: 17.300020\n",
      "2024-04-24 23:32:13,402 [INFO] __main__: Loss: 16.907492\n",
      "2024-04-24 23:32:15,226 [INFO] __main__: Loss: 16.250164\n",
      "2024-04-24 23:32:16,960 [INFO] __main__: Loss: 16.358616\n",
      "2024-04-24 23:32:18,906 [INFO] __main__: Loss: 15.915642\n",
      "2024-04-24 23:32:19,084 [INFO] __main__: Completed training the model!\n"
     ]
    }
   ],
   "source": [
    "# Training\n",
    "epochs = 10\n",
    "logger.info(\"Start training the model...\")\n",
    "for epoch in range(epochs):\n",
    "    logger.info(f\"Epoch: {epoch+1}\")\n",
    "    for batch, (X, _) in enumerate(train_loader):\n",
    "        loss = detector.train(X)\n",
    "\n",
    "        if batch % 100 == 0:\n",
    "            logger.info(f\"Loss: {loss.item():>7f}\")\n",
    "logger.info(\"Completed training the model!\")"
   ]
  },
  {
   "cell_type": "code",
   "execution_count": 6,
   "metadata": {},
   "outputs": [
    {
     "name": "stderr",
     "output_type": "stream",
     "text": [
      "2024-04-24 23:32:19,089 [INFO] __main__: Start evaluating the model...\n",
      "2024-04-24 23:32:20,626 [INFO] __main__: AUROC Score: 0.42992413986266703\n",
      "2024-04-24 23:32:20,626 [INFO] __main__: Completed the evaluation of the model!\n"
     ]
    }
   ],
   "source": [
    "# Evaluation\n",
    "metrics = BinaryAUROC()\n",
    "logger.info(\"Start evaluating the model...\")\n",
    "\n",
    "for X, y in test_loader:\n",
    "    scores = detector.predict(X)\n",
    "    metrics.update(scores, y)\n",
    "\n",
    "# Compute AUROC score\n",
    "logger.info(f\"AUROC Score: {metrics.compute()}\")\n",
    "\n",
    "logger.info(\"Completed the evaluation of the model!\")"
   ]
  }
 ],
 "metadata": {
  "kernelspec": {
   "display_name": ".venv",
   "language": "python",
   "name": "python3"
  },
  "language_info": {
   "codemirror_mode": {
    "name": "ipython",
    "version": 3
   },
   "file_extension": ".py",
   "mimetype": "text/x-python",
   "name": "python",
   "nbconvert_exporter": "python",
   "pygments_lexer": "ipython3",
   "version": "3.12.2"
  }
 },
 "nbformat": 4,
 "nbformat_minor": 2
}
