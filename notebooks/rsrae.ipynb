{
 "cells": [
  {
   "cell_type": "code",
   "execution_count": 1,
   "metadata": {},
   "outputs": [],
   "source": [
    "from logging import getLogger\n",
    "from logging.config import dictConfig\n",
    "\n",
    "from torch.utils.data import DataLoader\n",
    "from torcheval.metrics import BinaryAUROC\n",
    "from yaml import safe_load\n",
    "\n",
    "from streamvigil import ADBenchDataset\n",
    "from streamvigil.detectors import RSRAE"
   ]
  },
  {
   "cell_type": "code",
   "execution_count": 2,
   "metadata": {},
   "outputs": [],
   "source": [
    "# Logger\n",
    "with open(\"./logging.yml\", encoding=\"utf-8\") as file:\n",
    "        config = safe_load(file)\n",
    "dictConfig(config)\n",
    "logger = getLogger(__name__)"
   ]
  },
  {
   "cell_type": "code",
   "execution_count": 3,
   "metadata": {},
   "outputs": [],
   "source": [
    "# Anomaly Detector\n",
    "detector = RSRAE(\n",
    "    encoder_dims=[500, 450, 400, 350, 300],\n",
    "    decoder_dims=[250, 300, 350, 400, 450, 500],\n",
    "    rsr_dim=250,\n",
    "    batch_norm=True,\n",
    ")"
   ]
  },
  {
   "cell_type": "code",
   "execution_count": 4,
   "metadata": {},
   "outputs": [],
   "source": [
    "random_state = 42\n",
    "\n",
    "# Load dataset\n",
    "train_data = ADBenchDataset(\n",
    "    \"../data/9_census.npz\",\n",
    "    train=True,\n",
    "    random_state=random_state,\n",
    ")\n",
    "test_data = ADBenchDataset(\n",
    "    \"../data/9_census.npz\",\n",
    "    train=False,\n",
    "    random_state=random_state,\n",
    ")\n",
    "\n",
    "# DataLoader\n",
    "train_loader = DataLoader(train_data, batch_size=512)\n",
    "test_loader = DataLoader(test_data, batch_size=256)"
   ]
  },
  {
   "cell_type": "code",
   "execution_count": 5,
   "metadata": {},
   "outputs": [
    {
     "name": "stderr",
     "output_type": "stream",
     "text": [
      "2024-04-24 22:16:13,208 [INFO] __main__: Start training the model...\n",
      "2024-04-24 22:16:13,208 [INFO] __main__: Epoch: 1\n",
      "2024-04-24 22:16:13,491 [INFO] __main__: Loss: 9005.844727\n",
      "2024-04-24 22:16:15,421 [INFO] __main__: Loss: 1779.112427\n",
      "2024-04-24 22:16:17,508 [INFO] __main__: Loss: 1461.656982\n",
      "2024-04-24 22:16:19,576 [INFO] __main__: Loss: 1339.477539\n",
      "2024-04-24 22:16:21,745 [INFO] __main__: Loss: 1360.775513\n",
      "2024-04-24 22:16:21,918 [INFO] __main__: Epoch: 2\n",
      "2024-04-24 22:16:21,939 [INFO] __main__: Loss: 1367.468994\n",
      "2024-04-24 22:16:23,959 [INFO] __main__: Loss: 1316.431885\n",
      "2024-04-24 22:16:25,914 [INFO] __main__: Loss: 1243.711792\n",
      "2024-04-24 22:16:27,981 [INFO] __main__: Loss: 1176.703979\n",
      "2024-04-24 22:16:29,967 [INFO] __main__: Loss: 1204.854126\n",
      "2024-04-24 22:16:30,146 [INFO] __main__: Epoch: 3\n",
      "2024-04-24 22:16:30,168 [INFO] __main__: Loss: 1223.594604\n",
      "2024-04-24 22:16:32,155 [INFO] __main__: Loss: 1196.565796\n",
      "2024-04-24 22:16:34,204 [INFO] __main__: Loss: 1131.874756\n",
      "2024-04-24 22:16:36,252 [INFO] __main__: Loss: 1071.530640\n",
      "2024-04-24 22:16:38,228 [INFO] __main__: Loss: 1117.951172\n",
      "2024-04-24 22:16:38,424 [INFO] __main__: Epoch: 4\n",
      "2024-04-24 22:16:38,447 [INFO] __main__: Loss: 1157.666748\n",
      "2024-04-24 22:16:40,696 [INFO] __main__: Loss: 1118.058594\n",
      "2024-04-24 22:16:42,539 [INFO] __main__: Loss: 1061.382080\n",
      "2024-04-24 22:16:44,632 [INFO] __main__: Loss: 1017.662292\n",
      "2024-04-24 22:16:46,579 [INFO] __main__: Loss: 1056.654053\n",
      "2024-04-24 22:16:46,738 [INFO] __main__: Epoch: 5\n",
      "2024-04-24 22:16:46,757 [INFO] __main__: Loss: 1088.444946\n",
      "2024-04-24 22:16:48,634 [INFO] __main__: Loss: 1055.968262\n",
      "2024-04-24 22:16:50,509 [INFO] __main__: Loss: 1008.086487\n",
      "2024-04-24 22:16:52,371 [INFO] __main__: Loss: 989.364929\n",
      "2024-04-24 22:16:54,160 [INFO] __main__: Loss: 1019.083008\n",
      "2024-04-24 22:16:54,329 [INFO] __main__: Epoch: 6\n",
      "2024-04-24 22:16:54,351 [INFO] __main__: Loss: 1031.497681\n",
      "2024-04-24 22:16:56,171 [INFO] __main__: Loss: 1021.431763\n",
      "2024-04-24 22:16:58,245 [INFO] __main__: Loss: 986.519653\n",
      "2024-04-24 22:17:00,407 [INFO] __main__: Loss: 975.213562\n",
      "2024-04-24 22:17:02,316 [INFO] __main__: Loss: 975.126038\n",
      "2024-04-24 22:17:02,510 [INFO] __main__: Epoch: 7\n",
      "2024-04-24 22:17:02,534 [INFO] __main__: Loss: 1000.756409\n",
      "2024-04-24 22:17:04,300 [INFO] __main__: Loss: 992.738586\n",
      "2024-04-24 22:17:06,499 [INFO] __main__: Loss: 932.354980\n",
      "2024-04-24 22:17:08,459 [INFO] __main__: Loss: 919.517639\n",
      "2024-04-24 22:17:10,437 [INFO] __main__: Loss: 935.078796\n",
      "2024-04-24 22:17:10,613 [INFO] __main__: Epoch: 8\n",
      "2024-04-24 22:17:10,635 [INFO] __main__: Loss: 989.527832\n",
      "2024-04-24 22:17:12,587 [INFO] __main__: Loss: 953.325195\n",
      "2024-04-24 22:17:14,730 [INFO] __main__: Loss: 918.245117\n",
      "2024-04-24 22:17:17,038 [INFO] __main__: Loss: 893.255676\n",
      "2024-04-24 22:17:19,131 [INFO] __main__: Loss: 909.700073\n",
      "2024-04-24 22:17:19,303 [INFO] __main__: Epoch: 9\n",
      "2024-04-24 22:17:19,324 [INFO] __main__: Loss: 937.389160\n",
      "2024-04-24 22:17:21,460 [INFO] __main__: Loss: 926.868774\n",
      "2024-04-24 22:17:23,514 [INFO] __main__: Loss: 886.259338\n",
      "2024-04-24 22:17:25,322 [INFO] __main__: Loss: 863.700073\n",
      "2024-04-24 22:17:27,086 [INFO] __main__: Loss: 897.899414\n",
      "2024-04-24 22:17:27,237 [INFO] __main__: Epoch: 10\n",
      "2024-04-24 22:17:27,256 [INFO] __main__: Loss: 942.308777\n",
      "2024-04-24 22:17:29,168 [INFO] __main__: Loss: 913.223083\n",
      "2024-04-24 22:17:31,206 [INFO] __main__: Loss: 879.667969\n",
      "2024-04-24 22:17:33,308 [INFO] __main__: Loss: 855.120178\n",
      "2024-04-24 22:17:35,417 [INFO] __main__: Loss: 874.544189\n",
      "2024-04-24 22:17:35,571 [INFO] __main__: Completed training the model!\n"
     ]
    }
   ],
   "source": [
    "# Training\n",
    "epochs = 10\n",
    "logger.info(\"Start training the model...\")\n",
    "for epoch in range(epochs):\n",
    "    logger.info(f\"Epoch: {epoch+1}\")\n",
    "    for batch, (X, _) in enumerate(train_loader):\n",
    "        loss = detector.train(X)\n",
    "\n",
    "        if batch % 100 == 0:\n",
    "            logger.info(f\"Loss: {loss.item():>7f}\")\n",
    "logger.info(\"Completed training the model!\")"
   ]
  },
  {
   "cell_type": "code",
   "execution_count": 6,
   "metadata": {},
   "outputs": [
    {
     "name": "stderr",
     "output_type": "stream",
     "text": [
      "2024-04-24 22:17:35,575 [INFO] __main__: Start evaluating the model...\n",
      "2024-04-24 22:17:36,952 [INFO] __main__: AUROC Score: 0.4031903755205685\n",
      "2024-04-24 22:17:36,952 [INFO] __main__: Completed the evaluation of the model!\n"
     ]
    }
   ],
   "source": [
    "# Evaluation\n",
    "metrics = BinaryAUROC()\n",
    "logger.info(\"Start evaluating the model...\")\n",
    "\n",
    "for X, y in test_loader:\n",
    "    scores = detector.predict(X)\n",
    "    metrics.update(scores, y)\n",
    "\n",
    "# Compute AUROC score\n",
    "logger.info(f\"AUROC Score: {metrics.compute()}\")\n",
    "\n",
    "logger.info(\"Completed the evaluation of the model!\")"
   ]
  }
 ],
 "metadata": {
  "kernelspec": {
   "display_name": ".venv",
   "language": "python",
   "name": "python3"
  },
  "language_info": {
   "codemirror_mode": {
    "name": "ipython",
    "version": 3
   },
   "file_extension": ".py",
   "mimetype": "text/x-python",
   "name": "python",
   "nbconvert_exporter": "python",
   "pygments_lexer": "ipython3",
   "version": "3.12.2"
  }
 },
 "nbformat": 4,
 "nbformat_minor": 2
}
